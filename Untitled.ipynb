{
 "cells": [
  {
   "cell_type": "code",
   "execution_count": 1,
   "id": "804bb515-4008-4f2b-b448-fdbdf28a4bd2",
   "metadata": {},
   "outputs": [],
   "source": [
    "a = [1,2,3,4,3,9,\"John\"]\n",
    "a = a*2\n"
   ]
  },
  {
   "cell_type": "code",
   "execution_count": 2,
   "id": "50a5353a-ef08-43a8-86d7-98fef314ead8",
   "metadata": {},
   "outputs": [
    {
     "name": "stdout",
     "output_type": "stream",
     "text": [
      "[1, 2, 3, 4, 3, 9, 'John', 1, 2, 3, 4, 3, 9, 'John']\n"
     ]
    }
   ],
   "source": [
    "print(a)"
   ]
  },
  {
   "cell_type": "code",
   "execution_count": 3,
   "id": "92fa12c9-2b35-411c-8350-ae8d56b95496",
   "metadata": {},
   "outputs": [
    {
     "name": "stdout",
     "output_type": "stream",
     "text": [
      "[1, 2, 3, 4, 3, 9, 'John', 1, 2, 3, 4, 3, 9, 'John', 7, 8, 11]\n"
     ]
    }
   ],
   "source": [
    "b = [7,8,11]\n",
    "a = a+b\n",
    "print(a)"
   ]
  },
  {
   "cell_type": "code",
   "execution_count": 4,
   "id": "6cd3eb9a-f975-46a2-86b4-a95b9f41ed25",
   "metadata": {},
   "outputs": [
    {
     "name": "stdout",
     "output_type": "stream",
     "text": [
      "[1, 2, 3, 4, 3, 9, 'John', 1, 2, 3, 4, 3, 9, 'John', 7, 8, 11, 10]\n"
     ]
    }
   ],
   "source": [
    "a.append(10)\n",
    "print(a)"
   ]
  },
  {
   "cell_type": "code",
   "execution_count": 5,
   "id": "e7a4b06e-ac70-4a05-8da8-9efbb46c2d3e",
   "metadata": {},
   "outputs": [
    {
     "ename": "TypeError",
     "evalue": "'<' not supported between instances of 'str' and 'int'",
     "output_type": "error",
     "traceback": [
      "\u001b[0;31m---------------------------------------------------------------------------\u001b[0m",
      "\u001b[0;31mTypeError\u001b[0m                                 Traceback (most recent call last)",
      "Cell \u001b[0;32mIn[5], line 1\u001b[0m\n\u001b[0;32m----> 1\u001b[0m \u001b[43ma\u001b[49m\u001b[38;5;241;43m.\u001b[39;49m\u001b[43msort\u001b[49m\u001b[43m(\u001b[49m\u001b[43m)\u001b[49m\n",
      "\u001b[0;31mTypeError\u001b[0m: '<' not supported between instances of 'str' and 'int'"
     ]
    }
   ],
   "source": [
    "a.sort()"
   ]
  },
  {
   "cell_type": "code",
   "execution_count": 6,
   "id": "155c0e97-03b1-4c2c-82e4-98759d5e1bb1",
   "metadata": {},
   "outputs": [
    {
     "ename": "SyntaxError",
     "evalue": "invalid syntax (764074239.py, line 1)",
     "output_type": "error",
     "traceback": [
      "\u001b[0;36m  Cell \u001b[0;32mIn[6], line 1\u001b[0;36m\u001b[0m\n\u001b[0;31m    (int)a.sort()\u001b[0m\n\u001b[0m         ^\u001b[0m\n\u001b[0;31mSyntaxError\u001b[0m\u001b[0;31m:\u001b[0m invalid syntax\n"
     ]
    }
   ],
   "source": [
    "(int)a.sort()"
   ]
  },
  {
   "cell_type": "code",
   "execution_count": 8,
   "id": "3855494d-3563-4b6a-a9e8-f0d5891814e0",
   "metadata": {},
   "outputs": [],
   "source": [
    "c = [8,2,9,3,7,6,8,5]"
   ]
  },
  {
   "cell_type": "code",
   "execution_count": 9,
   "id": "df7442c9-470a-4042-94e3-2a7affcc1e24",
   "metadata": {},
   "outputs": [],
   "source": [
    "c.sort()"
   ]
  },
  {
   "cell_type": "code",
   "execution_count": 10,
   "id": "fef6deda-b308-486b-8257-34151be800df",
   "metadata": {},
   "outputs": [
    {
     "name": "stdout",
     "output_type": "stream",
     "text": [
      "[2, 3, 5, 6, 7, 8, 8, 9]\n"
     ]
    }
   ],
   "source": [
    "print(c)"
   ]
  },
  {
   "cell_type": "code",
   "execution_count": 11,
   "id": "f3691ea1-c2ee-4006-9bf1-32421c378083",
   "metadata": {},
   "outputs": [
    {
     "name": "stdout",
     "output_type": "stream",
     "text": [
      "[2, 3, 5, 6, 7, 8, 8, 9]\n"
     ]
    }
   ],
   "source": [
    "c.count(5)\n",
    "print(c)"
   ]
  },
  {
   "cell_type": "code",
   "execution_count": 12,
   "id": "50a3efbc-3995-4e45-99b6-f3bad0357307",
   "metadata": {},
   "outputs": [
    {
     "name": "stdout",
     "output_type": "stream",
     "text": [
      "1\n"
     ]
    }
   ],
   "source": [
    "print(c.count(5))"
   ]
  },
  {
   "cell_type": "code",
   "execution_count": 13,
   "id": "d76b0849-4ead-4cfb-909f-d08f16a5b77d",
   "metadata": {},
   "outputs": [
    {
     "name": "stdout",
     "output_type": "stream",
     "text": [
      "2\n"
     ]
    }
   ],
   "source": [
    "print(c.count(8))"
   ]
  },
  {
   "cell_type": "code",
   "execution_count": 14,
   "id": "a4414974-40d8-4fd6-9768-218ce4055314",
   "metadata": {},
   "outputs": [],
   "source": [
    "c = [8,2,9,3,7,6,8,5]"
   ]
  },
  {
   "cell_type": "code",
   "execution_count": 15,
   "id": "65b2612f-677d-4f66-9e27-6e97a3c3316e",
   "metadata": {},
   "outputs": [
    {
     "name": "stdout",
     "output_type": "stream",
     "text": [
      "[8, 2, 9, 3, 7, 6, 8, 5]\n"
     ]
    }
   ],
   "source": [
    "print(c)"
   ]
  },
  {
   "cell_type": "code",
   "execution_count": 16,
   "id": "3ea3da53-de1d-4e1e-975c-adaded40cd59",
   "metadata": {},
   "outputs": [
    {
     "name": "stdout",
     "output_type": "stream",
     "text": [
      "None\n"
     ]
    }
   ],
   "source": [
    "print(c.sort())"
   ]
  },
  {
   "cell_type": "code",
   "execution_count": 17,
   "id": "b5db8f71-af85-4c58-bf79-0403a9e8f6a6",
   "metadata": {},
   "outputs": [
    {
     "name": "stdout",
     "output_type": "stream",
     "text": [
      "[2, 3, 5, 6, 7, 8, 9]\n"
     ]
    }
   ],
   "source": [
    "c.remove(8)\n",
    "print(c)"
   ]
  },
  {
   "cell_type": "code",
   "execution_count": null,
   "id": "37b8ba3e-6013-44db-af04-a13ccbca838c",
   "metadata": {},
   "outputs": [],
   "source": []
  },
  {
   "cell_type": "code",
   "execution_count": null,
   "id": "340bbcac-1ee1-4cf9-8433-d194ed23997a",
   "metadata": {},
   "outputs": [],
   "source": []
  }
 ],
 "metadata": {
  "kernelspec": {
   "display_name": "Python 3 (ipykernel)",
   "language": "python",
   "name": "python3"
  },
  "language_info": {
   "codemirror_mode": {
    "name": "ipython",
    "version": 3
   },
   "file_extension": ".py",
   "mimetype": "text/x-python",
   "name": "python",
   "nbconvert_exporter": "python",
   "pygments_lexer": "ipython3",
   "version": "3.8.10"
  }
 },
 "nbformat": 4,
 "nbformat_minor": 5
}
