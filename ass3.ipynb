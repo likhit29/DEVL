{
 "cells": [
  {
   "cell_type": "code",
   "execution_count": 1,
   "id": "ff8859b5-db78-44d7-a89c-65f58ba3041e",
   "metadata": {},
   "outputs": [],
   "source": [
    "Score = {\"Dhiraj\" : 97, \"Aditya\" : 75, \"Goyal\" : 49}"
   ]
  },
  {
   "cell_type": "markdown",
   "id": "4703a9f9-e259-4251-a898-c8254a89fe03",
   "metadata": {},
   "source": [
    "adding element\n"
   ]
  },
  {
   "cell_type": "code",
   "execution_count": 2,
   "id": "ef481509-b045-4e51-9124-31be52f7d53d",
   "metadata": {},
   "outputs": [
    {
     "name": "stdout",
     "output_type": "stream",
     "text": [
      "{'Dhiraj': 97, 'Aditya': 75, 'Goyal': 49, 'Ashish': 65}\n"
     ]
    }
   ],
   "source": [
    "Score[\"Ashish\"] = 65\n",
    "print(Score)"
   ]
  },
  {
   "cell_type": "markdown",
   "id": "c5e64de2-2168-41e4-9d03-a8f8e40c5bce",
   "metadata": {},
   "source": [
    "delete element"
   ]
  },
  {
   "cell_type": "code",
   "execution_count": 3,
   "id": "8561fafe-f6cd-4090-97d5-63412d2c543e",
   "metadata": {},
   "outputs": [
    {
     "name": "stdout",
     "output_type": "stream",
     "text": [
      "{'Dhiraj': 97, 'Aditya': 75, 'Goyal': 49}\n"
     ]
    }
   ],
   "source": [
    "del Score['Ashish']\n",
    "print(Score)"
   ]
  },
  {
   "cell_type": "markdown",
   "id": "7ee2d7fc-d2c7-4931-838b-f43e5ce08b55",
   "metadata": {},
   "source": [
    "update element"
   ]
  },
  {
   "cell_type": "code",
   "execution_count": 4,
   "id": "ec8b0e14-e5e4-4242-bb17-5da75ae504c3",
   "metadata": {
    "scrolled": true
   },
   "outputs": [
    {
     "name": "stdout",
     "output_type": "stream",
     "text": [
      "{'Dhiraj': 65, 'Aditya': 75, 'Goyal': 49}\n"
     ]
    }
   ],
   "source": [
    "Score[\"Dhiraj\"] = 65\n",
    "print(Score)"
   ]
  },
  {
   "cell_type": "code",
   "execution_count": 5,
   "id": "57dc9d08-d2cc-453c-a34b-17deb0de6cad",
   "metadata": {},
   "outputs": [
    {
     "name": "stdout",
     "output_type": "stream",
     "text": [
      "{'Dhiraj': 88}\n",
      "{'Dhiraj': 88, 'Aditya': 92}\n",
      "{'Dhiraj': 88, 'Aditya': 92, 'Nitesh': 75}\n",
      "{'Dhiraj': 88, 'Aditya': 92, 'Nitesh': 75, 'Yash': 100}\n",
      "Updated\n",
      "{'Dhiraj': 88, 'Aditya': 40, 'Nitesh': 75, 'Yash': 100}\n",
      "\n",
      "\n",
      "Deleted student.\n",
      "{'Dhiraj': 88, 'Nitesh': 75, 'Yash': 100}\n",
      "\n",
      "\n",
      "Highest score is - 100\n"
     ]
    }
   ],
   "source": [
    "class Student:\n",
    "    def __init__(self):\n",
    "        self.dict = {}   \n",
    "    def add_std(self, name, score):\n",
    "        self.dict[name] = score\n",
    "        print(self.dict)\n",
    "    def update_score(self, name, score):\n",
    "        if name in self.dict:\n",
    "            self.dict[name] = score\n",
    "            print(f\"Updated\")\n",
    "            print(self.dict)\n",
    "            print(\"\\n\")\n",
    "        else:\n",
    "            print(f\"Student not found.\")\n",
    "    def delete_student(self, name):\n",
    "        if name in self.dict:\n",
    "           \n",
    "            del self.dict[name]\n",
    "            print(f\"Deleted student.\")\n",
    "            print(self.dict)\n",
    "            print(\"\\n\")\n",
    "        else:\n",
    "            print(f\"Student not found.\")\n",
    "    def highest(self):\n",
    "        print(f\"Highest score is - {max(self.dict.values())}\")\n",
    "        \n",
    "\n",
    "o1 = Student()\n",
    "o1.add_std(\"Dhiraj\", 88)\n",
    "o1.add_std(\"Aditya\", 92)\n",
    "o1.add_std(\"Nitesh\", 75)\n",
    "o1.add_std(\"Yash\", 100)\n",
    "o1.update_score(\"Aditya\", 40)\n",
    "o1.delete_student(\"Aditya\")\n",
    "o1.highest()\n",
    "\n",
    "\n",
    "\n",
    "            "
   ]
  },
  {
   "cell_type": "code",
   "execution_count": null,
   "id": "591a1288-9a0e-4ec9-b500-2cc002fb92d5",
   "metadata": {},
   "outputs": [],
   "source": []
  },
  {
   "cell_type": "code",
   "execution_count": null,
   "id": "b947e71e-5402-44ea-a804-62f996c86999",
   "metadata": {},
   "outputs": [],
   "source": []
  },
  {
   "cell_type": "code",
   "execution_count": null,
   "id": "187369da-805e-4833-93ee-b8d8c4a2efeb",
   "metadata": {},
   "outputs": [],
   "source": []
  },
  {
   "cell_type": "code",
   "execution_count": null,
   "id": "ec566c5c-fc66-4e2b-ab89-3fee877a0a6a",
   "metadata": {},
   "outputs": [],
   "source": []
  },
  {
   "cell_type": "code",
   "execution_count": null,
   "id": "e98c420e-7c77-4f72-b219-3c5b49c901e3",
   "metadata": {},
   "outputs": [],
   "source": []
  }
 ],
 "metadata": {
  "kernelspec": {
   "display_name": "Python 3 (ipykernel)",
   "language": "python",
   "name": "python3"
  },
  "language_info": {
   "codemirror_mode": {
    "name": "ipython",
    "version": 3
   },
   "file_extension": ".py",
   "mimetype": "text/x-python",
   "name": "python",
   "nbconvert_exporter": "python",
   "pygments_lexer": "ipython3",
   "version": "3.8.10"
  }
 },
 "nbformat": 4,
 "nbformat_minor": 5
}
