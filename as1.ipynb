{
 "cells": [
  {
   "cell_type": "code",
   "execution_count": 1,
   "id": "3c953499-0ba2-4fab-80b4-37c509d29b92",
   "metadata": {},
   "outputs": [],
   "source": [
    "a = [1,2,3,4,3,9,\"John\"]"
   ]
  },
  {
   "cell_type": "code",
   "execution_count": 2,
   "id": "60d24c16-d6f3-4596-93c9-a646a9514c87",
   "metadata": {},
   "outputs": [],
   "source": [
    "a = a*2"
   ]
  },
  {
   "cell_type": "code",
   "execution_count": 3,
   "id": "6e49399f-bcb2-48a4-8b28-a9b7987b05ff",
   "metadata": {},
   "outputs": [
    {
     "name": "stdout",
     "output_type": "stream",
     "text": [
      "[1, 2, 3, 4, 3, 9, 'John', 1, 2, 3, 4, 3, 9, 'John']\n"
     ]
    }
   ],
   "source": [
    "print(a)"
   ]
  },
  {
   "cell_type": "code",
   "execution_count": 4,
   "id": "2a4a1f8f-544f-4d52-bb51-bad3bef00b04",
   "metadata": {},
   "outputs": [],
   "source": [
    "b = [7,8,11]"
   ]
  },
  {
   "cell_type": "code",
   "execution_count": 5,
   "id": "5eb9b501-0eec-4b58-9473-b131f0ad2be8",
   "metadata": {},
   "outputs": [
    {
     "name": "stdout",
     "output_type": "stream",
     "text": [
      "[1, 2, 3, 4, 3, 9, 'John', 1, 2, 3, 4, 3, 9, 'John', 7, 8, 11]\n"
     ]
    }
   ],
   "source": [
    "a = a+b\n",
    "print(a)"
   ]
  },
  {
   "cell_type": "code",
   "execution_count": 6,
   "id": "c5c7d20b-c63b-4739-8de0-9f21f4ac23a5",
   "metadata": {},
   "outputs": [],
   "source": [
    "a.append(10)"
   ]
  },
  {
   "cell_type": "code",
   "execution_count": 7,
   "id": "7e8fd927-0e27-41be-9556-98165d4f9bdf",
   "metadata": {},
   "outputs": [
    {
     "name": "stdout",
     "output_type": "stream",
     "text": [
      "[1, 2, 3, 4, 3, 9, 'John', 1, 2, 3, 4, 3, 9, 'John', 7, 8, 11, 10]\n"
     ]
    }
   ],
   "source": [
    "print(a)"
   ]
  },
  {
   "cell_type": "code",
   "execution_count": 8,
   "id": "2aa5b640-bf27-4729-a0a3-8e3df16badaf",
   "metadata": {},
   "outputs": [],
   "source": [
    "c = [8,2,9,3,7,6,8,5]"
   ]
  },
  {
   "cell_type": "code",
   "execution_count": 9,
   "id": "26cb77e0-943b-436c-a6de-182f7eff3f1f",
   "metadata": {},
   "outputs": [],
   "source": [
    "c.sort()"
   ]
  },
  {
   "cell_type": "code",
   "execution_count": 10,
   "id": "12c1727e-c116-44cf-a970-26f6dea79938",
   "metadata": {},
   "outputs": [
    {
     "name": "stdout",
     "output_type": "stream",
     "text": [
      "[2, 3, 5, 6, 7, 8, 8, 9]\n"
     ]
    }
   ],
   "source": [
    "print(c)"
   ]
  },
  {
   "cell_type": "code",
   "execution_count": 11,
   "id": "199dc1e2-c98c-4425-9349-b46c9be3c966",
   "metadata": {},
   "outputs": [
    {
     "name": "stdout",
     "output_type": "stream",
     "text": [
      "1\n"
     ]
    }
   ],
   "source": [
    "print(c.count(5))"
   ]
  },
  {
   "cell_type": "code",
   "execution_count": 12,
   "id": "baaae4b2-f837-4974-b925-4d1af81b01be",
   "metadata": {},
   "outputs": [
    {
     "name": "stdout",
     "output_type": "stream",
     "text": [
      "2\n"
     ]
    }
   ],
   "source": [
    "print(c.count(8))"
   ]
  },
  {
   "cell_type": "code",
   "execution_count": 13,
   "id": "8499896f-29e1-4836-8d40-e6a5020e15ef",
   "metadata": {},
   "outputs": [
    {
     "name": "stdout",
     "output_type": "stream",
     "text": [
      "[2, 3, 5, 6, 7, 8, 8]\n"
     ]
    }
   ],
   "source": [
    "c.remove(9)\n",
    "print(c)"
   ]
  },
  {
   "cell_type": "code",
   "execution_count": 14,
   "id": "37f7f418-8d19-4791-9f01-4877e17fbc0f",
   "metadata": {},
   "outputs": [
    {
     "name": "stdout",
     "output_type": "stream",
     "text": [
      "[2, 3, 5, 6, 7, 8]\n"
     ]
    }
   ],
   "source": [
    "c.pop()\n",
    "print(c)"
   ]
  },
  {
   "cell_type": "code",
   "execution_count": 15,
   "id": "0b045135-4c15-4940-b0d9-32c31f1835a4",
   "metadata": {},
   "outputs": [
    {
     "data": {
      "text/plain": [
       "6"
      ]
     },
     "execution_count": 15,
     "metadata": {},
     "output_type": "execute_result"
    }
   ],
   "source": [
    "c[3]"
   ]
  },
  {
   "cell_type": "code",
   "execution_count": 16,
   "id": "90941de7-543f-417f-be61-368b0dc6cf48",
   "metadata": {},
   "outputs": [
    {
     "name": "stdout",
     "output_type": "stream",
     "text": [
      "[2, 3]\n"
     ]
    }
   ],
   "source": [
    "print(c[:2])"
   ]
  },
  {
   "cell_type": "code",
   "execution_count": 17,
   "id": "3b22f4b0-581b-4471-9e39-03887d978cdd",
   "metadata": {},
   "outputs": [
    {
     "name": "stdout",
     "output_type": "stream",
     "text": [
      "[3, 5, 6]\n"
     ]
    }
   ],
   "source": [
    "print(c[1:4])"
   ]
  },
  {
   "cell_type": "code",
   "execution_count": 18,
   "id": "1e64127b-2e4d-42db-abc0-dd4fa818bf5a",
   "metadata": {},
   "outputs": [],
   "source": [
    "d = [a,b,c]\n"
   ]
  },
  {
   "cell_type": "code",
   "execution_count": 19,
   "id": "7d927536-5458-46c5-a773-d7b41e069c75",
   "metadata": {},
   "outputs": [
    {
     "name": "stdout",
     "output_type": "stream",
     "text": [
      "[[1, 2, 3, 4, 3, 9, 'John', 1, 2, 3, 4, 3, 9, 'John', 7, 8, 11, 10], [7, 8, 11], [2, 3, 5, 6, 7, 8]]\n"
     ]
    }
   ],
   "source": [
    "print(d)"
   ]
  },
  {
   "cell_type": "code",
   "execution_count": 20,
   "id": "0b4a580c-b8e3-42b3-8eb8-183555c76ee9",
   "metadata": {},
   "outputs": [
    {
     "data": {
      "text/plain": [
       "11"
      ]
     },
     "execution_count": 20,
     "metadata": {},
     "output_type": "execute_result"
    }
   ],
   "source": [
    "d[1][2]\n"
   ]
  },
  {
   "cell_type": "code",
   "execution_count": null,
   "id": "5d792c7b-b758-4fcd-aefd-c78168141c92",
   "metadata": {},
   "outputs": [],
   "source": []
  }
 ],
 "metadata": {
  "kernelspec": {
   "display_name": "Python 3 (ipykernel)",
   "language": "python",
   "name": "python3"
  },
  "language_info": {
   "codemirror_mode": {
    "name": "ipython",
    "version": 3
   },
   "file_extension": ".py",
   "mimetype": "text/x-python",
   "name": "python",
   "nbconvert_exporter": "python",
   "pygments_lexer": "ipython3",
   "version": "3.8.10"
  }
 },
 "nbformat": 4,
 "nbformat_minor": 5
}
