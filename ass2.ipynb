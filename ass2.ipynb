{
 "cells": [
  {
   "cell_type": "code",
   "execution_count": 1,
   "id": "a375dc6d-4a8d-447e-8587-1f067b59acc7",
   "metadata": {},
   "outputs": [],
   "source": [
    "d = {}"
   ]
  },
  {
   "cell_type": "code",
   "execution_count": 2,
   "id": "64531af6-b154-476f-814b-da92b8ae205c",
   "metadata": {},
   "outputs": [
    {
     "data": {
      "text/plain": [
       "dict"
      ]
     },
     "execution_count": 2,
     "metadata": {},
     "output_type": "execute_result"
    }
   ],
   "source": [
    "type(d)"
   ]
  },
  {
   "cell_type": "code",
   "execution_count": 3,
   "id": "32fc3379-e761-4ed9-9d6a-fccefa53cad4",
   "metadata": {},
   "outputs": [],
   "source": [
    "s = {1}"
   ]
  },
  {
   "cell_type": "code",
   "execution_count": 4,
   "id": "eefd9631-22b6-44f5-a556-c4f073801172",
   "metadata": {},
   "outputs": [
    {
     "data": {
      "text/plain": [
       "set"
      ]
     },
     "execution_count": 4,
     "metadata": {},
     "output_type": "execute_result"
    }
   ],
   "source": [
    "type(s)"
   ]
  },
  {
   "cell_type": "code",
   "execution_count": 5,
   "id": "99f13f67-44d3-47cb-a470-67bc1a3c7ab6",
   "metadata": {},
   "outputs": [],
   "source": [
    "a1 = {\"name\": \"likhit\", \"rollno\":100, \"div\":\"A\"}\n"
   ]
  },
  {
   "cell_type": "code",
   "execution_count": 6,
   "id": "f6f44d7b-0538-4eea-992a-0fdcdc3295a2",
   "metadata": {},
   "outputs": [
    {
     "name": "stdout",
     "output_type": "stream",
     "text": [
      "{'name': 'likhit', 'rollno': 100, 'div': 'A'}\n"
     ]
    }
   ],
   "source": [
    "print(a1)"
   ]
  },
  {
   "cell_type": "code",
   "execution_count": 7,
   "id": "20a040fd-3429-4407-a661-c9031802a8a2",
   "metadata": {},
   "outputs": [],
   "source": [
    "a1[\"batch\"] = \"B\""
   ]
  },
  {
   "cell_type": "code",
   "execution_count": 8,
   "id": "d12d261e-2b24-4eab-8c88-94bd66244b71",
   "metadata": {},
   "outputs": [
    {
     "name": "stdout",
     "output_type": "stream",
     "text": [
      "{'name': 'likhit', 'rollno': 100, 'div': 'A', 'batch': 'B'}\n"
     ]
    }
   ],
   "source": [
    "print(a1)"
   ]
  },
  {
   "cell_type": "code",
   "execution_count": 9,
   "id": "0497363a-950b-4281-a90b-f2324341cd84",
   "metadata": {},
   "outputs": [],
   "source": [
    "a2 = {\"name\": \"likhit\", \"rollno\":100, \"Sub\" : ['phy' , 'maths', 'chem']}"
   ]
  },
  {
   "cell_type": "code",
   "execution_count": 10,
   "id": "63ad5420-f6ac-46c3-9de1-f6bf45bc54ba",
   "metadata": {},
   "outputs": [
    {
     "name": "stdout",
     "output_type": "stream",
     "text": [
      "['phy', 'maths', 'chem']\n"
     ]
    }
   ],
   "source": [
    "print(a2[\"Sub\"])"
   ]
  },
  {
   "cell_type": "code",
   "execution_count": 11,
   "id": "84d8f3d2-7a86-45b8-b814-fdda5a6acc5b",
   "metadata": {},
   "outputs": [],
   "source": [
    "a3 = {(1 ,5,8): \"numbers\"}"
   ]
  },
  {
   "cell_type": "code",
   "execution_count": 12,
   "id": "36aa25e6-cda8-4f4c-aac0-979b78940cf9",
   "metadata": {},
   "outputs": [
    {
     "name": "stdout",
     "output_type": "stream",
     "text": [
      "{(1, 5, 8): 'numbers'}\n"
     ]
    }
   ],
   "source": [
    "print(a3)"
   ]
  },
  {
   "cell_type": "code",
   "execution_count": 13,
   "id": "778fd93f-5e14-42aa-83c4-596071fa4e50",
   "metadata": {},
   "outputs": [
    {
     "name": "stdout",
     "output_type": "stream",
     "text": [
      "{'name': 'likhit', 'rollno': 100, 'Sub': ['phy', 'maths', 'chem']}\n"
     ]
    }
   ],
   "source": [
    "print(a2)"
   ]
  },
  {
   "cell_type": "code",
   "execution_count": 14,
   "id": "bdae9306-bfa5-4f19-aebd-67935f77cc91",
   "metadata": {},
   "outputs": [
    {
     "data": {
      "text/plain": [
       "dict_keys(['name', 'rollno', 'Sub'])"
      ]
     },
     "execution_count": 14,
     "metadata": {},
     "output_type": "execute_result"
    }
   ],
   "source": [
    "a2.keys()"
   ]
  },
  {
   "cell_type": "code",
   "execution_count": 15,
   "id": "b5cc50ee-528a-4cf3-a6a7-d9283edf9a85",
   "metadata": {},
   "outputs": [
    {
     "data": {
      "text/plain": [
       "dict_values(['likhit', 100, ['phy', 'maths', 'chem']])"
      ]
     },
     "execution_count": 15,
     "metadata": {},
     "output_type": "execute_result"
    }
   ],
   "source": [
    "a2.values()"
   ]
  },
  {
   "cell_type": "code",
   "execution_count": 16,
   "id": "13d3ae32-3d86-4bf3-9d43-1fd00e7a5b16",
   "metadata": {},
   "outputs": [
    {
     "data": {
      "text/plain": [
       "dict_items([('name', 'likhit'), ('rollno', 100), ('Sub', ['phy', 'maths', 'chem'])])"
      ]
     },
     "execution_count": 16,
     "metadata": {},
     "output_type": "execute_result"
    }
   ],
   "source": [
    "a2.items()"
   ]
  },
  {
   "cell_type": "code",
   "execution_count": 18,
   "id": "2646dfc6-12f6-4c39-ae91-5b7f7bbf4436",
   "metadata": {},
   "outputs": [],
   "source": [
    "a5 = {' ': 5}"
   ]
  },
  {
   "cell_type": "code",
   "execution_count": 21,
   "id": "b44cbf37-66ae-4280-ae60-e6683d81809a",
   "metadata": {},
   "outputs": [
    {
     "name": "stdout",
     "output_type": "stream",
     "text": [
      "{' ': 5}\n"
     ]
    }
   ],
   "source": [
    "print(a5)"
   ]
  },
  {
   "cell_type": "code",
   "execution_count": null,
   "id": "ce4b95ce-58fe-4861-a8f5-3de06d15ebed",
   "metadata": {},
   "outputs": [],
   "source": []
  },
  {
   "cell_type": "code",
   "execution_count": null,
   "id": "bbf344ca-cd76-4c75-868d-f87747f9113b",
   "metadata": {},
   "outputs": [],
   "source": []
  },
  {
   "cell_type": "markdown",
   "id": "4a563416-a2e8-4eed-ba23-a4b45b03b595",
   "metadata": {},
   "source": [
    "QUE - \n",
    "l = [3,4,5,6,7, [23,456,67,8,78,78],[345,56,87,8,98,9], (234,6657,6) , {\"key\":\"sudh\", 234:[23,45,656]}]\n",
    "reverse\n",
    "234\n",
    "456\n",
    "all list\n",
    "sudh\n",
    "key of dicitonary\n",
    "value of dicitonary"
   ]
  },
  {
   "cell_type": "code",
   "execution_count": 23,
   "id": "86cb6e88-b428-4cec-8891-9d508320896d",
   "metadata": {},
   "outputs": [],
   "source": [
    "l = [3,4,5,6,7, [23,456,67,8,78,78],[345,56,87,8,98,9], (234,6657,6) , {\"key\":\"sudh\", 234:[23,45,656]}]"
   ]
  },
  {
   "cell_type": "code",
   "execution_count": 29,
   "id": "0582c9fe-68a8-48c2-af0a-c458b729ce2f",
   "metadata": {},
   "outputs": [
    {
     "name": "stdout",
     "output_type": "stream",
     "text": [
      "[3, 4, 5, 6, 7, [23, 456, 67, 8, 78, 78], [345, 56, 87, 8, 98, 9], (234, 6657, 6), {'key': 'sudh', 234: [23, 45, 656]}]\n"
     ]
    }
   ],
   "source": [
    "print(l)"
   ]
  },
  {
   "cell_type": "code",
   "execution_count": 30,
   "id": "2c02f506-5f40-44ad-a9b6-360c31d56bb0",
   "metadata": {},
   "outputs": [
    {
     "name": "stdout",
     "output_type": "stream",
     "text": [
      "[{'key': 'sudh', 234: [23, 45, 656]}, (234, 6657, 6), [345, 56, 87, 8, 98, 9], [23, 456, 67, 8, 78, 78], 7, 6, 5, 4, 3]\n"
     ]
    }
   ],
   "source": [
    "l.reverse()\n",
    "print(l)"
   ]
  },
  {
   "cell_type": "code",
   "execution_count": 38,
   "id": "ce303a36-66bb-4a54-9291-a1e743ab276a",
   "metadata": {},
   "outputs": [
    {
     "name": "stdout",
     "output_type": "stream",
     "text": [
      "234\n"
     ]
    }
   ],
   "source": [
    "print(l[1][0])"
   ]
  },
  {
   "cell_type": "code",
   "execution_count": 39,
   "id": "a93a5bb4-8aba-498e-b37d-efbf11905594",
   "metadata": {},
   "outputs": [
    {
     "name": "stdout",
     "output_type": "stream",
     "text": [
      "456\n"
     ]
    }
   ],
   "source": [
    "print(l[3][1])"
   ]
  },
  {
   "cell_type": "code",
   "execution_count": 40,
   "id": "86683425-aa66-4990-a9db-73edf76a7456",
   "metadata": {},
   "outputs": [
    {
     "name": "stdout",
     "output_type": "stream",
     "text": [
      "[345, 56, 87, 8, 98, 9]\n"
     ]
    }
   ],
   "source": [
    "print(l[2])"
   ]
  },
  {
   "cell_type": "code",
   "execution_count": 41,
   "id": "0a831120-dd08-44fc-968a-9af48d781b28",
   "metadata": {},
   "outputs": [
    {
     "name": "stdout",
     "output_type": "stream",
     "text": [
      "[23, 456, 67, 8, 78, 78]\n"
     ]
    }
   ],
   "source": [
    "print(l[3])"
   ]
  },
  {
   "cell_type": "code",
   "execution_count": 42,
   "id": "18c36c25-96b2-4035-a0f7-49c95962598e",
   "metadata": {},
   "outputs": [
    {
     "name": "stdout",
     "output_type": "stream",
     "text": [
      "sudh\n"
     ]
    }
   ],
   "source": [
    "print(l[0][\"key\"])"
   ]
  },
  {
   "cell_type": "code",
   "execution_count": 43,
   "id": "17f41a5d-c9ad-4ff9-90ce-4d6d0dee17be",
   "metadata": {},
   "outputs": [
    {
     "name": "stdout",
     "output_type": "stream",
     "text": [
      "dict_keys(['key', 234])\n"
     ]
    }
   ],
   "source": [
    "print(l[0].keys())"
   ]
  },
  {
   "cell_type": "code",
   "execution_count": 44,
   "id": "06614ad4-b616-4721-a06c-634a2062c8af",
   "metadata": {},
   "outputs": [
    {
     "name": "stdout",
     "output_type": "stream",
     "text": [
      "dict_values(['sudh', [23, 45, 656]])\n"
     ]
    }
   ],
   "source": [
    "print(l[0].values())"
   ]
  },
  {
   "cell_type": "code",
   "execution_count": 45,
   "id": "230b8023-f41b-450e-bc32-f53ab68a9890",
   "metadata": {},
   "outputs": [
    {
     "name": "stdout",
     "output_type": "stream",
     "text": [
      "dict_items([('key', 'sudh'), (234, [23, 45, 656])])\n"
     ]
    }
   ],
   "source": [
    "print(l[0].items())"
   ]
  },
  {
   "cell_type": "code",
   "execution_count": null,
   "id": "dc918740-7ee8-411f-8d8f-0426fb4619f8",
   "metadata": {},
   "outputs": [],
   "source": []
  }
 ],
 "metadata": {
  "kernelspec": {
   "display_name": "Python 3 (ipykernel)",
   "language": "python",
   "name": "python3"
  },
  "language_info": {
   "codemirror_mode": {
    "name": "ipython",
    "version": 3
   },
   "file_extension": ".py",
   "mimetype": "text/x-python",
   "name": "python",
   "nbconvert_exporter": "python",
   "pygments_lexer": "ipython3",
   "version": "3.8.10"
  }
 },
 "nbformat": 4,
 "nbformat_minor": 5
}
